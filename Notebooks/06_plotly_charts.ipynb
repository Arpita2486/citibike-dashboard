{
 "cells": [
  {
   "cell_type": "markdown",
   "id": "f4b569fc-df8c-4f69-8ee9-bab3438c9025",
   "metadata": {},
   "source": [
    "### Top Starting Stations (NYC Citi Bike, 2022 — sample)\n",
    "\n",
    "This chart shows the **20 most popular _starting_ stations**.   \n",
    "- Counts are shown **outside** each bar to keep the plot area uncluttered.\n"
   ]
  },
  {
   "cell_type": "code",
   "execution_count": 2,
   "id": "b4dfd57f-6228-4fd7-9b72-8e4348c5a133",
   "metadata": {},
   "outputs": [
    {
     "data": {
      "application/vnd.plotly.v1+json": {
       "config": {
        "plotlyServerURL": "https://plot.ly"
       },
       "data": [
        {
         "cliponaxis": false,
         "hovertemplate": "Trips=%{x}<br>Start station=%{y}<br>text=%{text}<extra></extra>",
         "legendgroup": "",
         "marker": {
          "color": "#636efa",
          "pattern": {
           "shape": ""
          }
         },
         "name": "",
         "orientation": "h",
         "showlegend": false,
         "text": {
          "bdata": "AAAAAACAckAAAAAAAABzQAAAAAAAQHNAAAAAAABgc0AAAAAAAIBzQAAAAAAAoHNAAAAAAAAAdEAAAAAAABB0QAAAAAAAMHRAAAAAAABgdEAAAAAAAKB0QAAAAAAA4HRAAAAAAADgdEAAAAAAAPB0QAAAAAAAMHVAAAAAAAAgdkAAAAAAANB3QAAAAAAA0HhAAAAAAAAgeUAAAAAAAKB7QA==",
          "dtype": "f8"
         },
         "textposition": "outside",
         "type": "bar",
         "x": {
          "bdata": "KAEwATQBNgE4AToBQAFBAUMBRgFKAU4BTgFPAVMBYgF9AY0BkgG6AQ==",
          "dtype": "i2"
         },
         "xaxis": "x",
         "y": [
          "E 40 St & Park Ave",
          "9 Ave & W 22 St",
          "E 33 St & 1 Ave",
          "8 Ave & W 33 St",
          "6 Ave & W 33 St",
          "8 Ave & W 16 St",
          "Broadway & E 21 St",
          "8 Ave & W 38 St",
          "11 Ave & W 41 St",
          "University Pl & E 14 St",
          "12 Ave & W 40 St",
          "Cleveland Pl & Spring St",
          "Broadway & E 14 St",
          "Broadway & W 25 St",
          "W 31 St & 7 Ave",
          "1 Ave & E 68 St",
          "Broadway & W 58 St",
          "6 Ave & W 34 St",
          "West St & Chambers St",
          "W 21 St & 6 Ave"
         ],
         "yaxis": "y"
        }
       ],
       "layout": {
        "bargap": 0.2,
        "barmode": "relative",
        "height": 650,
        "legend": {
         "tracegroupgap": 0
        },
        "margin": {
         "b": 40,
         "l": 160,
         "r": 40,
         "t": 60
        },
        "showlegend": false,
        "template": {
         "data": {
          "bar": [
           {
            "error_x": {
             "color": "#2a3f5f"
            },
            "error_y": {
             "color": "#2a3f5f"
            },
            "marker": {
             "line": {
              "color": "#E5ECF6",
              "width": 0.5
             },
             "pattern": {
              "fillmode": "overlay",
              "size": 10,
              "solidity": 0.2
             }
            },
            "type": "bar"
           }
          ],
          "barpolar": [
           {
            "marker": {
             "line": {
              "color": "#E5ECF6",
              "width": 0.5
             },
             "pattern": {
              "fillmode": "overlay",
              "size": 10,
              "solidity": 0.2
             }
            },
            "type": "barpolar"
           }
          ],
          "carpet": [
           {
            "aaxis": {
             "endlinecolor": "#2a3f5f",
             "gridcolor": "white",
             "linecolor": "white",
             "minorgridcolor": "white",
             "startlinecolor": "#2a3f5f"
            },
            "baxis": {
             "endlinecolor": "#2a3f5f",
             "gridcolor": "white",
             "linecolor": "white",
             "minorgridcolor": "white",
             "startlinecolor": "#2a3f5f"
            },
            "type": "carpet"
           }
          ],
          "choropleth": [
           {
            "colorbar": {
             "outlinewidth": 0,
             "ticks": ""
            },
            "type": "choropleth"
           }
          ],
          "contour": [
           {
            "colorbar": {
             "outlinewidth": 0,
             "ticks": ""
            },
            "colorscale": [
             [
              0,
              "#0d0887"
             ],
             [
              0.1111111111111111,
              "#46039f"
             ],
             [
              0.2222222222222222,
              "#7201a8"
             ],
             [
              0.3333333333333333,
              "#9c179e"
             ],
             [
              0.4444444444444444,
              "#bd3786"
             ],
             [
              0.5555555555555556,
              "#d8576b"
             ],
             [
              0.6666666666666666,
              "#ed7953"
             ],
             [
              0.7777777777777778,
              "#fb9f3a"
             ],
             [
              0.8888888888888888,
              "#fdca26"
             ],
             [
              1,
              "#f0f921"
             ]
            ],
            "type": "contour"
           }
          ],
          "contourcarpet": [
           {
            "colorbar": {
             "outlinewidth": 0,
             "ticks": ""
            },
            "type": "contourcarpet"
           }
          ],
          "heatmap": [
           {
            "colorbar": {
             "outlinewidth": 0,
             "ticks": ""
            },
            "colorscale": [
             [
              0,
              "#0d0887"
             ],
             [
              0.1111111111111111,
              "#46039f"
             ],
             [
              0.2222222222222222,
              "#7201a8"
             ],
             [
              0.3333333333333333,
              "#9c179e"
             ],
             [
              0.4444444444444444,
              "#bd3786"
             ],
             [
              0.5555555555555556,
              "#d8576b"
             ],
             [
              0.6666666666666666,
              "#ed7953"
             ],
             [
              0.7777777777777778,
              "#fb9f3a"
             ],
             [
              0.8888888888888888,
              "#fdca26"
             ],
             [
              1,
              "#f0f921"
             ]
            ],
            "type": "heatmap"
           }
          ],
          "histogram": [
           {
            "marker": {
             "pattern": {
              "fillmode": "overlay",
              "size": 10,
              "solidity": 0.2
             }
            },
            "type": "histogram"
           }
          ],
          "histogram2d": [
           {
            "colorbar": {
             "outlinewidth": 0,
             "ticks": ""
            },
            "colorscale": [
             [
              0,
              "#0d0887"
             ],
             [
              0.1111111111111111,
              "#46039f"
             ],
             [
              0.2222222222222222,
              "#7201a8"
             ],
             [
              0.3333333333333333,
              "#9c179e"
             ],
             [
              0.4444444444444444,
              "#bd3786"
             ],
             [
              0.5555555555555556,
              "#d8576b"
             ],
             [
              0.6666666666666666,
              "#ed7953"
             ],
             [
              0.7777777777777778,
              "#fb9f3a"
             ],
             [
              0.8888888888888888,
              "#fdca26"
             ],
             [
              1,
              "#f0f921"
             ]
            ],
            "type": "histogram2d"
           }
          ],
          "histogram2dcontour": [
           {
            "colorbar": {
             "outlinewidth": 0,
             "ticks": ""
            },
            "colorscale": [
             [
              0,
              "#0d0887"
             ],
             [
              0.1111111111111111,
              "#46039f"
             ],
             [
              0.2222222222222222,
              "#7201a8"
             ],
             [
              0.3333333333333333,
              "#9c179e"
             ],
             [
              0.4444444444444444,
              "#bd3786"
             ],
             [
              0.5555555555555556,
              "#d8576b"
             ],
             [
              0.6666666666666666,
              "#ed7953"
             ],
             [
              0.7777777777777778,
              "#fb9f3a"
             ],
             [
              0.8888888888888888,
              "#fdca26"
             ],
             [
              1,
              "#f0f921"
             ]
            ],
            "type": "histogram2dcontour"
           }
          ],
          "mesh3d": [
           {
            "colorbar": {
             "outlinewidth": 0,
             "ticks": ""
            },
            "type": "mesh3d"
           }
          ],
          "parcoords": [
           {
            "line": {
             "colorbar": {
              "outlinewidth": 0,
              "ticks": ""
             }
            },
            "type": "parcoords"
           }
          ],
          "pie": [
           {
            "automargin": true,
            "type": "pie"
           }
          ],
          "scatter": [
           {
            "fillpattern": {
             "fillmode": "overlay",
             "size": 10,
             "solidity": 0.2
            },
            "type": "scatter"
           }
          ],
          "scatter3d": [
           {
            "line": {
             "colorbar": {
              "outlinewidth": 0,
              "ticks": ""
             }
            },
            "marker": {
             "colorbar": {
              "outlinewidth": 0,
              "ticks": ""
             }
            },
            "type": "scatter3d"
           }
          ],
          "scattercarpet": [
           {
            "marker": {
             "colorbar": {
              "outlinewidth": 0,
              "ticks": ""
             }
            },
            "type": "scattercarpet"
           }
          ],
          "scattergeo": [
           {
            "marker": {
             "colorbar": {
              "outlinewidth": 0,
              "ticks": ""
             }
            },
            "type": "scattergeo"
           }
          ],
          "scattergl": [
           {
            "marker": {
             "colorbar": {
              "outlinewidth": 0,
              "ticks": ""
             }
            },
            "type": "scattergl"
           }
          ],
          "scattermap": [
           {
            "marker": {
             "colorbar": {
              "outlinewidth": 0,
              "ticks": ""
             }
            },
            "type": "scattermap"
           }
          ],
          "scattermapbox": [
           {
            "marker": {
             "colorbar": {
              "outlinewidth": 0,
              "ticks": ""
             }
            },
            "type": "scattermapbox"
           }
          ],
          "scatterpolar": [
           {
            "marker": {
             "colorbar": {
              "outlinewidth": 0,
              "ticks": ""
             }
            },
            "type": "scatterpolar"
           }
          ],
          "scatterpolargl": [
           {
            "marker": {
             "colorbar": {
              "outlinewidth": 0,
              "ticks": ""
             }
            },
            "type": "scatterpolargl"
           }
          ],
          "scatterternary": [
           {
            "marker": {
             "colorbar": {
              "outlinewidth": 0,
              "ticks": ""
             }
            },
            "type": "scatterternary"
           }
          ],
          "surface": [
           {
            "colorbar": {
             "outlinewidth": 0,
             "ticks": ""
            },
            "colorscale": [
             [
              0,
              "#0d0887"
             ],
             [
              0.1111111111111111,
              "#46039f"
             ],
             [
              0.2222222222222222,
              "#7201a8"
             ],
             [
              0.3333333333333333,
              "#9c179e"
             ],
             [
              0.4444444444444444,
              "#bd3786"
             ],
             [
              0.5555555555555556,
              "#d8576b"
             ],
             [
              0.6666666666666666,
              "#ed7953"
             ],
             [
              0.7777777777777778,
              "#fb9f3a"
             ],
             [
              0.8888888888888888,
              "#fdca26"
             ],
             [
              1,
              "#f0f921"
             ]
            ],
            "type": "surface"
           }
          ],
          "table": [
           {
            "cells": {
             "fill": {
              "color": "#EBF0F8"
             },
             "line": {
              "color": "white"
             }
            },
            "header": {
             "fill": {
              "color": "#C8D4E3"
             },
             "line": {
              "color": "white"
             }
            },
            "type": "table"
           }
          ]
         },
         "layout": {
          "annotationdefaults": {
           "arrowcolor": "#2a3f5f",
           "arrowhead": 0,
           "arrowwidth": 1
          },
          "autotypenumbers": "strict",
          "coloraxis": {
           "colorbar": {
            "outlinewidth": 0,
            "ticks": ""
           }
          },
          "colorscale": {
           "diverging": [
            [
             0,
             "#8e0152"
            ],
            [
             0.1,
             "#c51b7d"
            ],
            [
             0.2,
             "#de77ae"
            ],
            [
             0.3,
             "#f1b6da"
            ],
            [
             0.4,
             "#fde0ef"
            ],
            [
             0.5,
             "#f7f7f7"
            ],
            [
             0.6,
             "#e6f5d0"
            ],
            [
             0.7,
             "#b8e186"
            ],
            [
             0.8,
             "#7fbc41"
            ],
            [
             0.9,
             "#4d9221"
            ],
            [
             1,
             "#276419"
            ]
           ],
           "sequential": [
            [
             0,
             "#0d0887"
            ],
            [
             0.1111111111111111,
             "#46039f"
            ],
            [
             0.2222222222222222,
             "#7201a8"
            ],
            [
             0.3333333333333333,
             "#9c179e"
            ],
            [
             0.4444444444444444,
             "#bd3786"
            ],
            [
             0.5555555555555556,
             "#d8576b"
            ],
            [
             0.6666666666666666,
             "#ed7953"
            ],
            [
             0.7777777777777778,
             "#fb9f3a"
            ],
            [
             0.8888888888888888,
             "#fdca26"
            ],
            [
             1,
             "#f0f921"
            ]
           ],
           "sequentialminus": [
            [
             0,
             "#0d0887"
            ],
            [
             0.1111111111111111,
             "#46039f"
            ],
            [
             0.2222222222222222,
             "#7201a8"
            ],
            [
             0.3333333333333333,
             "#9c179e"
            ],
            [
             0.4444444444444444,
             "#bd3786"
            ],
            [
             0.5555555555555556,
             "#d8576b"
            ],
            [
             0.6666666666666666,
             "#ed7953"
            ],
            [
             0.7777777777777778,
             "#fb9f3a"
            ],
            [
             0.8888888888888888,
             "#fdca26"
            ],
            [
             1,
             "#f0f921"
            ]
           ]
          },
          "colorway": [
           "#636efa",
           "#EF553B",
           "#00cc96",
           "#ab63fa",
           "#FFA15A",
           "#19d3f3",
           "#FF6692",
           "#B6E880",
           "#FF97FF",
           "#FECB52"
          ],
          "font": {
           "color": "#2a3f5f"
          },
          "geo": {
           "bgcolor": "white",
           "lakecolor": "white",
           "landcolor": "#E5ECF6",
           "showlakes": true,
           "showland": true,
           "subunitcolor": "white"
          },
          "hoverlabel": {
           "align": "left"
          },
          "hovermode": "closest",
          "mapbox": {
           "style": "light"
          },
          "paper_bgcolor": "white",
          "plot_bgcolor": "#E5ECF6",
          "polar": {
           "angularaxis": {
            "gridcolor": "white",
            "linecolor": "white",
            "ticks": ""
           },
           "bgcolor": "#E5ECF6",
           "radialaxis": {
            "gridcolor": "white",
            "linecolor": "white",
            "ticks": ""
           }
          },
          "scene": {
           "xaxis": {
            "backgroundcolor": "#E5ECF6",
            "gridcolor": "white",
            "gridwidth": 2,
            "linecolor": "white",
            "showbackground": true,
            "ticks": "",
            "zerolinecolor": "white"
           },
           "yaxis": {
            "backgroundcolor": "#E5ECF6",
            "gridcolor": "white",
            "gridwidth": 2,
            "linecolor": "white",
            "showbackground": true,
            "ticks": "",
            "zerolinecolor": "white"
           },
           "zaxis": {
            "backgroundcolor": "#E5ECF6",
            "gridcolor": "white",
            "gridwidth": 2,
            "linecolor": "white",
            "showbackground": true,
            "ticks": "",
            "zerolinecolor": "white"
           }
          },
          "shapedefaults": {
           "line": {
            "color": "#2a3f5f"
           }
          },
          "ternary": {
           "aaxis": {
            "gridcolor": "white",
            "linecolor": "white",
            "ticks": ""
           },
           "baxis": {
            "gridcolor": "white",
            "linecolor": "white",
            "ticks": ""
           },
           "bgcolor": "#E5ECF6",
           "caxis": {
            "gridcolor": "white",
            "linecolor": "white",
            "ticks": ""
           }
          },
          "title": {
           "x": 0.05
          },
          "xaxis": {
           "automargin": true,
           "gridcolor": "white",
           "linecolor": "white",
           "ticks": "",
           "title": {
            "standoff": 15
           },
           "zerolinecolor": "white",
           "zerolinewidth": 2
          },
          "yaxis": {
           "automargin": true,
           "gridcolor": "white",
           "linecolor": "white",
           "ticks": "",
           "title": {
            "standoff": 15
           },
           "zerolinecolor": "white",
           "zerolinewidth": 2
          }
         }
        },
        "title": {
         "text": "Top 20 starting stations (NYC Citi Bike 2022 — sample)"
        },
        "xaxis": {
         "anchor": "y",
         "domain": [
          0,
          1
         ],
         "showgrid": true,
         "title": {
          "text": "Trips"
         }
        },
        "yaxis": {
         "anchor": "x",
         "autorange": true,
         "domain": [
          0,
          1
         ],
         "title": {
          "text": "Start station"
         }
        }
       }
      },
      "image/png": "[encoded data removed]"
     },
     "metadata": {},
     "output_type": "display_data"
    }
   ],
   "source": [
    "# Paths & data\n",
    "from pathlib import Path\n",
    "import pandas as pd\n",
    "import plotly.express as px\n",
    "\n",
    "PROJECT = Path.cwd()\n",
    "if not (PROJECT / \"Output\").exists():\n",
    "    PROJECT = PROJECT.parent if (PROJECT.parent / \"Output\").exists() else PROJECT\n",
    "OUT = PROJECT / \"Output\"\n",
    "SAMPLE = OUT / \"citibike_weather_2022_sample_100k.csv\"\n",
    "\n",
    "df = pd.read_csv(SAMPLE)\n",
    "df[\"date\"] = pd.to_datetime(df[\"date\"], errors=\"coerce\").dt.date\n",
    "df[\"start_station_name\"] = df[\"start_station_name\"].fillna(\"Unknown station\")\n",
    "\n",
    "topN = 20\n",
    "vc = df[\"start_station_name\"].value_counts().head(topN).sort_values(ascending=True)\n",
    "fig_bar = px.bar(\n",
    "    x=vc.values, y=vc.index, orientation=\"h\",\n",
    "    text=vc.values, labels={\"x\":\"Trips\", \"y\":\"Start station\"},\n",
    "    title=f\"Top {topN} starting stations (NYC Citi Bike 2022 — sample)\"\n",
    ")\n",
    "fig_bar.update_traces(textposition=\"outside\", cliponaxis=False)\n",
    "fig_bar.update_layout(\n",
    "    bargap=0.2,\n",
    "    height=650,\n",
    "    margin=dict(t=60, b=40, l=160, r=40),\n",
    "    xaxis=dict(showgrid=True),\n",
    "    yaxis=dict(autorange=True),\n",
    "    showlegend=False\n",
    ")\n",
    "fig_bar.show()\n"
   ]
  },
  {
   "cell_type": "markdown",
   "id": "60a45df2-1839-424f-9ced-8927571047d3",
   "metadata": {},
   "source": [
    "### Daily Trips vs. Temperature\n",
    "\n",
    "Trips are on the **left axis**; temperature (°C) on the **right**.  \n",
    "Use the **range slider** to focus on specific months or seasons.\n"
   ]
  },
  {
   "cell_type": "code",
   "execution_count": 3,
   "id": "be14e4ba-ebe5-4188-a112-360cfc18b266",
   "metadata": {},
   "outputs": [
    {
     "data": {
      "application/vnd.plotly.v1+json": {
       "config": {
        "plotlyServerURL": "https://plot.ly"
       },
       "data": [
        {
         "mode": "lines",
         "name": "Trips (7d avg)",
         "type": "scatter",
         "x": [
          "2021-12-31",
          "2022-01-01",
          "2022-01-02",
          "2022-01-03",
          "2022-01-04",
          "2022-01-05",
          "2022-01-06",
          "2022-01-07",
          "2022-01-08",
          "2022-01-09",
          "2022-01-10",
          "2022-01-11",
          "2022-01-12",
          "2022-01-13",
          "2022-01-14",
          "2022-01-15",
          "2022-01-16",
          "2022-01-17",
          "2022-01-18",
          "2022-01-19",
          "2022-01-20",
          "2022-01-21",
          "2022-01-22",
          "2022-01-23",
          "2022-01-24",
          "2022-01-25",
          "2022-01-26",
          "2022-01-27",
          "2022-01-28",
          "2022-01-30",
          "2022-01-31",
          "2022-02-01",
          "2022-02-02",
          "2022-02-03",
          "2022-02-04",
          "2022-02-05",
          "2022-02-06",
          "2022-02-07",
          "2022-02-08",
          "2022-02-09",
          "2022-02-10",
          "2022-02-11",
          "2022-02-12",
          "2022-02-13",
          "2022-02-14",
          "2022-02-15",
          "2022-02-16",
          "2022-02-17",
          "2022-02-18",
          "2022-02-19",
          "2022-02-20",
          "2022-02-21",
          "2022-02-22",
          "2022-02-23",
          "2022-02-24",
          "2022-02-25",
          "2022-02-26",
          "2022-02-27",
          "2022-02-28",
          "2022-03-01",
          "2022-03-02",
          "2022-03-03",
          "2022-03-04",
          "2022-03-05",
          "2022-03-06",
          "2022-03-07",
          "2022-03-08",
          "2022-03-09",
          "2022-03-10",
          "2022-03-11",
          "2022-03-12",
          "2022-03-13",
          "2022-03-14",
          "2022-03-15",
          "2022-03-16",
          "2022-03-17",
          "2022-03-18",
          "2022-03-19",
          "2022-03-20",
          "2022-03-21",
          "2022-03-22",
          "2022-03-23",
          "2022-03-24",
          "2022-03-25",
          "2022-03-26",
          "2022-03-27",
          "2022-03-28",
          "2022-03-29",
          "2022-03-30",
          "2022-03-31",
          "2022-04-01",
          "2022-04-02",
          "2022-04-03",
          "2022-04-04",
          "2022-04-05",
          "2022-04-06",
          "2022-04-07",
          "2022-04-08",
          "2022-04-09",
          "2022-04-10",
          "2022-04-11",
          "2022-04-12",
          "2022-04-13",
          "2022-04-14",
          "2022-04-15",
          "2022-04-16",
          "2022-04-17",
          "2022-04-18",
          "2022-04-19",
          "2022-04-20",
          "2022-04-21",
          "2022-04-22",
          "2022-04-23",
          "2022-04-24",
          "2022-04-25",
          "2022-04-26",
          "2022-04-27",
          "2022-04-28",
          "2022-04-29",
          "2022-04-30",
          "2022-05-01",
          "2022-05-02",
          "2022-05-03",
          "2022-05-04",
          "2022-05-05",
          "2022-05-06",
          "2022-05-07",
          "2022-05-08",
          "2022-05-09",
          "2022-05-10",
          "2022-05-11",
          "2022-05-12",
          "2022-05-13",
          "2022-05-14",
          "2022-05-15",
          "2022-05-16",
          "2022-05-17",
          "2022-05-18",
          "2022-05-19",
          "2022-05-20",
          "2022-05-21",
          "2022-05-22",
          "2022-05-23",
          "2022-05-24",
          "2022-05-25",
          "2022-05-26",
          "2022-05-27",
          "2022-05-28",
          "2022-05-29",
          "2022-05-30",
          "2022-05-31",
          "2022-06-01",
          "2022-06-02",
          "2022-06-03",
          "2022-06-04",
          "2022-06-05",
          "2022-06-06",
          "2022-06-07",
          "2022-06-08",
          "2022-06-09",
          "2022-06-10",
          "2022-06-11",
          "2022-06-12",
          "2022-06-13",
          "2022-06-14",
          "2022-06-15",
          "2022-06-16",
          "2022-06-17",
          "2022-06-18",
          "2022-06-19",
          "2022-06-20",
          "2022-06-21",
          "2022-06-22",
          "2022-06-23",
          "2022-06-24",
          "2022-06-25",
          "2022-06-26",
          "2022-06-27",
          "2022-06-28",
          "2022-06-29",
          "2022-06-30",
          "2022-07-01",
          "2022-07-02",
          "2022-07-03",
          "2022-07-04",
          "2022-07-05",
          "2022-07-06",
          "2022-07-07",
          "2022-07-08",
          "2022-07-09",
          "2022-07-10",
          "2022-07-11",
          "2022-07-12",
          "2022-07-13",
          "2022-07-14",
          "2022-07-15",
          "2022-07-16",
          "2022-07-17",
          "2022-07-18",
          "2022-07-19",
          "2022-07-20",
          "2022-07-21",
          "2022-07-22",
          "2022-07-23",
          "2022-07-24",
          "2022-07-25",
          "2022-07-26",
          "2022-07-27",
          "2022-07-28",
          "2022-07-29",
          "2022-07-30",
          "2022-07-31",
          "2022-08-01",
          "2022-08-02",
          "2022-08-03",
          "2022-08-04",
          "2022-08-05",
          "2022-08-06",
          "2022-08-07",
          "2022-08-08",
          "2022-08-09",
          "2022-08-10",
          "2022-08-11",
          "2022-08-12",
          "2022-08-13",
          "2022-08-14",
          "2022-08-15",
          "2022-08-16",
          "2022-08-17",
          "2022-08-18",
          "2022-08-19",
          "2022-08-20",
          "2022-08-21",
          "2022-08-22",
          "2022-08-23",
          "2022-08-24",
          "2022-08-25",
          "2022-08-26",
          "2022-08-27",
          "2022-08-28",
          "2022-08-29",
          "2022-08-30",
          "2022-08-31",
          "2022-09-01",
          "2022-09-02",
          "2022-09-03",
          "2022-09-04",
          "2022-09-05",
          "2022-09-06",
          "2022-09-07",
          "2022-09-08",
          "2022-09-09",
          "2022-09-10",
          "2022-09-11",
          "2022-09-12",
          "2022-09-13",
          "2022-09-14",
          "2022-09-15",
          "2022-09-16",
          "2022-09-17",
          "2022-09-18",
          "2022-09-19",
          "2022-09-20",
          "2022-09-21",
          "2022-09-22",
          "2022-09-23",
          "2022-09-24",
          "2022-09-25",
          "2022-09-26",
          "2022-09-27",
          "2022-09-28",
          "2022-09-29",
          "2022-09-30",
          "2022-10-01",
          "2022-10-02",
          "2022-10-03",
          "2022-10-04",
          "2022-10-05",
          "2022-10-06",
          "2022-10-07",
          "2022-10-08",
          "2022-10-09",
          "2022-10-10",
          "2022-10-11",
          "2022-10-12",
          "2022-10-13",
          "2022-10-14",
          "2022-10-15",
          "2022-10-16",
          "2022-10-17",
          "2022-10-18",
          "2022-10-19",
          "2022-10-20",
          "2022-10-21",
          "2022-10-22",
          "2022-10-23",
          "2022-10-24",
          "2022-10-25",
          "2022-10-26",
          "2022-10-27",
          "2022-10-28",
          "2022-10-29",
          "2022-10-30",
          "2022-10-31",
          "2022-11-01",
          "2022-11-02",
          "2022-11-03",
          "2022-11-04",
          "2022-11-05",
          "2022-11-06",
          "2022-11-07",
          "2022-11-08",
          "2022-11-09",
          "2022-11-10",
          "2022-11-11",
          "2022-11-12",
          "2022-11-13",
          "2022-11-14",
          "2022-11-15",
          "2022-11-16",
          "2022-11-17",
          "2022-11-18",
          "2022-11-19",
          "2022-11-20",
          "2022-11-21",
          "2022-11-22",
          "2022-11-23",
          "2022-11-24",
          "2022-11-25",
          "2022-11-26",
          "2022-11-27",
          "2022-11-28",
          "2022-11-29",
          "2022-11-30",
          "2022-12-01",
          "2022-12-02",
          "2022-12-03",
          "2022-12-04",
          "2022-12-05",
          "2022-12-06",
          "2022-12-07",
          "2022-12-08",
          "2022-12-09",
          "2022-12-10",
          "2022-12-11",
          "2022-12-12",
          "2022-12-13",
          "2022-12-14",
          "2022-12-15",
          "2022-12-16",
          "2022-12-17",
          "2022-12-18",
          "2022-12-19",
          "2022-12-20",
          "2022-12-21",
          "2022-12-22",
          "2022-12-23",
          "2022-12-24",
          "2022-12-25",
          "2022-12-26",
          "2022-12-27",
          "2022-12-28",
          "2022-12-29",
          "2022-12-30",
          "2022-12-31"
         ],
         "xaxis": "x",
         "y": {
          "bdata": "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",
          "dtype": "f8"
         },
         "yaxis": "y"
        },
        {
         "mode": "lines",
         "name": "Avg Temp (°C, 7d)",
         "type": "scatter",
         "x": [
          "2021-12-31",
          "2022-01-01",
          "2022-01-02",
          "2022-01-03",
          "2022-01-04",
          "2022-01-05",
          "2022-01-06",
          "2022-01-07",
          "2022-01-08",
          "2022-01-09",
          "2022-01-10",
          "2022-01-11",
          "2022-01-12",
          "2022-01-13",
          "2022-01-14",
          "2022-01-15",
          "2022-01-16",
          "2022-01-17",
          "2022-01-18",
          "2022-01-19",
          "2022-01-20",
          "2022-01-21",
          "2022-01-22",
          "2022-01-23",
          "2022-01-24",
          "2022-01-25",
          "2022-01-26",
          "2022-01-27",
          "2022-01-28",
          "2022-01-30",
          "2022-01-31",
          "2022-02-01",
          "2022-02-02",
          "2022-02-03",
          "2022-02-04",
          "2022-02-05",
          "2022-02-06",
          "2022-02-07",
          "2022-02-08",
          "2022-02-09",
          "2022-02-10",
          "2022-02-11",
          "2022-02-12",
          "2022-02-13",
          "2022-02-14",
          "2022-02-15",
          "2022-02-16",
          "2022-02-17",
          "2022-02-18",
          "2022-02-19",
          "2022-02-20",
          "2022-02-21",
          "2022-02-22",
          "2022-02-23",
          "2022-02-24",
          "2022-02-25",
          "2022-02-26",
          "2022-02-27",
          "2022-02-28",
          "2022-03-01",
          "2022-03-02",
          "2022-03-03",
          "2022-03-04",
          "2022-03-05",
          "2022-03-06",
          "2022-03-07",
          "2022-03-08",
          "2022-03-09",
          "2022-03-10",
          "2022-03-11",
          "2022-03-12",
          "2022-03-13",
          "2022-03-14",
          "2022-03-15",
          "2022-03-16",
          "2022-03-17",
          "2022-03-18",
          "2022-03-19",
          "2022-03-20",
          "2022-03-21",
          "2022-03-22",
          "2022-03-23",
          "2022-03-24",
          "2022-03-25",
          "2022-03-26",
          "2022-03-27",
          "2022-03-28",
          "2022-03-29",
          "2022-03-30",
          "2022-03-31",
          "2022-04-01",
          "2022-04-02",
          "2022-04-03",
          "2022-04-04",
          "2022-04-05",
          "2022-04-06",
          "2022-04-07",
          "2022-04-08",
          "2022-04-09",
          "2022-04-10",
          "2022-04-11",
          "2022-04-12",
          "2022-04-13",
          "2022-04-14",
          "2022-04-15",
          "2022-04-16",
          "2022-04-17",
          "2022-04-18",
          "2022-04-19",
          "2022-04-20",
          "2022-04-21",
          "2022-04-22",
          "2022-04-23",
          "2022-04-24",
          "2022-04-25",
          "2022-04-26",
          "2022-04-27",
          "2022-04-28",
          "2022-04-29",
          "2022-04-30",
          "2022-05-01",
          "2022-05-02",
          "2022-05-03",
          "2022-05-04",
          "2022-05-05",
          "2022-05-06",
          "2022-05-07",
          "2022-05-08",
          "2022-05-09",
          "2022-05-10",
          "2022-05-11",
          "2022-05-12",
          "2022-05-13",
          "2022-05-14",
          "2022-05-15",
          "2022-05-16",
          "2022-05-17",
          "2022-05-18",
          "2022-05-19",
          "2022-05-20",
          "2022-05-21",
          "2022-05-22",
          "2022-05-23",
          "2022-05-24",
          "2022-05-25",
          "2022-05-26",
          "2022-05-27",
          "2022-05-28",
          "2022-05-29",
          "2022-05-30",
          "2022-05-31",
          "2022-06-01",
          "2022-06-02",
          "2022-06-03",
          "2022-06-04",
          "2022-06-05",
          "2022-06-06",
          "2022-06-07",
          "2022-06-08",
          "2022-06-09",
          "2022-06-10",
          "2022-06-11",
          "2022-06-12",
          "2022-06-13",
          "2022-06-14",
          "2022-06-15",
          "2022-06-16",
          "2022-06-17",
          "2022-06-18",
          "2022-06-19",
          "2022-06-20",
          "2022-06-21",
          "2022-06-22",
          "2022-06-23",
          "2022-06-24",
          "2022-06-25",
          "2022-06-26",
          "2022-06-27",
          "2022-06-28",
          "2022-06-29",
          "2022-06-30",
          "2022-07-01",
          "2022-07-02",
          "2022-07-03",
          "2022-07-04",
          "2022-07-05",
          "2022-07-06",
          "2022-07-07",
          "2022-07-08",
          "2022-07-09",
          "2022-07-10",
          "2022-07-11",
          "2022-07-12",
          "2022-07-13",
          "2022-07-14",
          "2022-07-15",
          "2022-07-16",
          "2022-07-17",
          "2022-07-18",
          "2022-07-19",
          "2022-07-20",
          "2022-07-21",
          "2022-07-22",
          "2022-07-23",
          "2022-07-24",
          "2022-07-25",
          "2022-07-26",
          "2022-07-27",
          "2022-07-28",
          "2022-07-29",
          "2022-07-30",
          "2022-07-31",
          "2022-08-01",
          "2022-08-02",
          "2022-08-03",
          "2022-08-04",
          "2022-08-05",
          "2022-08-06",
          "2022-08-07",
          "2022-08-08",
          "2022-08-09",
          "2022-08-10",
          "2022-08-11",
          "2022-08-12",
          "2022-08-13",
          "2022-08-14",
          "2022-08-15",
          "2022-08-16",
          "2022-08-17",
          "2022-08-18",
          "2022-08-19",
          "2022-08-20",
          "2022-08-21",
          "2022-08-22",
          "2022-08-23",
          "2022-08-24",
          "2022-08-25",
          "2022-08-26",
          "2022-08-27",
          "2022-08-28",
          "2022-08-29",
          "2022-08-30",
          "2022-08-31",
          "2022-09-01",
          "2022-09-02",
          "2022-09-03",
          "2022-09-04",
          "2022-09-05",
          "2022-09-06",
          "2022-09-07",
          "2022-09-08",
          "2022-09-09",
          "2022-09-10",
          "2022-09-11",
          "2022-09-12",
          "2022-09-13",
          "2022-09-14",
          "2022-09-15",
          "2022-09-16",
          "2022-09-17",
          "2022-09-18",
          "2022-09-19",
          "2022-09-20",
          "2022-09-21",
          "2022-09-22",
          "2022-09-23",
          "2022-09-24",
          "2022-09-25",
          "2022-09-26",
          "2022-09-27",
          "2022-09-28",
          "2022-09-29",
          "2022-09-30",
          "2022-10-01",
          "2022-10-02",
          "2022-10-03",
          "2022-10-04",
          "2022-10-05",
          "2022-10-06",
          "2022-10-07",
          "2022-10-08",
          "2022-10-09",
          "2022-10-10",
          "2022-10-11",
          "2022-10-12",
          "2022-10-13",
          "2022-10-14",
          "2022-10-15",
          "2022-10-16",
          "2022-10-17",
          "2022-10-18",
          "2022-10-19",
          "2022-10-20",
          "2022-10-21",
          "2022-10-22",
          "2022-10-23",
          "2022-10-24",
          "2022-10-25",
          "2022-10-26",
          "2022-10-27",
          "2022-10-28",
          "2022-10-29",
          "2022-10-30",
          "2022-10-31",
          "2022-11-01",
          "2022-11-02",
          "2022-11-03",
          "2022-11-04",
          "2022-11-05",
          "2022-11-06",
          "2022-11-07",
          "2022-11-08",
          "2022-11-09",
          "2022-11-10",
          "2022-11-11",
          "2022-11-12",
          "2022-11-13",
          "2022-11-14",
          "2022-11-15",
          "2022-11-16",
          "2022-11-17",
          "2022-11-18",
          "2022-11-19",
          "2022-11-20",
          "2022-11-21",
          "2022-11-22",
          "2022-11-23",
          "2022-11-24",
          "2022-11-25",
          "2022-11-26",
          "2022-11-27",
          "2022-11-28",
          "2022-11-29",
          "2022-11-30",
          "2022-12-01",
          "2022-12-02",
          "2022-12-03",
          "2022-12-04",
          "2022-12-05",
          "2022-12-06",
          "2022-12-07",
          "2022-12-08",
          "2022-12-09",
          "2022-12-10",
          "2022-12-11",
          "2022-12-12",
          "2022-12-13",
          "2022-12-14",
          "2022-12-15",
          "2022-12-16",
          "2022-12-17",
          "2022-12-18",
          "2022-12-19",
          "2022-12-20",
          "2022-12-21",
          "2022-12-22",
          "2022-12-23",
          "2022-12-24",
          "2022-12-25",
          "2022-12-26",
          "2022-12-27",
          "2022-12-28",
          "2022-12-29",
          "2022-12-30",
          "2022-12-31"
         ],
         "xaxis": "x",
         "y": {
          "bdata": "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",
          "dtype": "f8"
         },
         "yaxis": "y2"
        }
       ],
       "layout": {
        "height": 520,
        "hovermode": "x unified",
        "legend": {
         "orientation": "h",
         "x": 0,
         "y": 1.02,
         "yanchor": "bottom"
        },
        "margin": {
         "b": 40,
         "l": 60,
         "r": 60,
         "t": 60
        },
        "template": {
         "data": {
          "bar": [
           {
            "error_x": {
             "color": "#2a3f5f"
            },
            "error_y": {
             "color": "#2a3f5f"
            },
            "marker": {
             "line": {
              "color": "#E5ECF6",
              "width": 0.5
             },
             "pattern": {
              "fillmode": "overlay",
              "size": 10,
              "solidity": 0.2
             }
            },
            "type": "bar"
           }
          ],
          "barpolar": [
           {
            "marker": {
             "line": {
              "color": "#E5ECF6",
              "width": 0.5
             },
             "pattern": {
              "fillmode": "overlay",
              "size": 10,
              "solidity": 0.2
             }
            },
            "type": "barpolar"
           }
          ],
          "carpet": [
           {
            "aaxis": {
             "endlinecolor": "#2a3f5f",
             "gridcolor": "white",
             "linecolor": "white",
             "minorgridcolor": "white",
             "startlinecolor": "#2a3f5f"
            },
            "baxis": {
             "endlinecolor": "#2a3f5f",
             "gridcolor": "white",
             "linecolor": "white",
             "minorgridcolor": "white",
             "startlinecolor": "#2a3f5f"
            },
            "type": "carpet"
           }
          ],
          "choropleth": [
           {
            "colorbar": {
             "outlinewidth": 0,
             "ticks": ""
            },
            "type": "choropleth"
           }
          ],
          "contour": [
           {
            "colorbar": {
             "outlinewidth": 0,
             "ticks": ""
            },
            "colorscale": [
             [
              0,
              "#0d0887"
             ],
             [
              0.1111111111111111,
              "#46039f"
             ],
             [
              0.2222222222222222,
              "#7201a8"
             ],
             [
              0.3333333333333333,
              "#9c179e"
             ],
             [
              0.4444444444444444,
              "#bd3786"
             ],
             [
              0.5555555555555556,
              "#d8576b"
             ],
             [
              0.6666666666666666,
              "#ed7953"
             ],
             [
              0.7777777777777778,
              "#fb9f3a"
             ],
             [
              0.8888888888888888,
              "#fdca26"
             ],
             [
              1,
              "#f0f921"
             ]
            ],
            "type": "contour"
           }
          ],
          "contourcarpet": [
           {
            "colorbar": {
             "outlinewidth": 0,
             "ticks": ""
            },
            "type": "contourcarpet"
           }
          ],
          "heatmap": [
           {
            "colorbar": {
             "outlinewidth": 0,
             "ticks": ""
            },
            "colorscale": [
             [
              0,
              "#0d0887"
             ],
             [
              0.1111111111111111,
              "#46039f"
             ],
             [
              0.2222222222222222,
              "#7201a8"
             ],
             [
              0.3333333333333333,
              "#9c179e"
             ],
             [
              0.4444444444444444,
              "#bd3786"
             ],
             [
              0.5555555555555556,
              "#d8576b"
             ],
             [
              0.6666666666666666,
              "#ed7953"
             ],
             [
              0.7777777777777778,
              "#fb9f3a"
             ],
             [
              0.8888888888888888,
              "#fdca26"
             ],
             [
              1,
              "#f0f921"
             ]
            ],
            "type": "heatmap"
           }
          ],
          "histogram": [
           {
            "marker": {
             "pattern": {
              "fillmode": "overlay",
              "size": 10,
              "solidity": 0.2
             }
            },
            "type": "histogram"
           }
          ],
          "histogram2d": [
           {
            "colorbar": {
             "outlinewidth": 0,
             "ticks": ""
            },
            "colorscale": [
             [
              0,
              "#0d0887"
             ],
             [
              0.1111111111111111,
              "#46039f"
             ],
             [
              0.2222222222222222,
              "#7201a8"
             ],
             [
              0.3333333333333333,
              "#9c179e"
             ],
             [
              0.4444444444444444,
              "#bd3786"
             ],
             [
              0.5555555555555556,
              "#d8576b"
             ],
             [
              0.6666666666666666,
              "#ed7953"
             ],
             [
              0.7777777777777778,
              "#fb9f3a"
             ],
             [
              0.8888888888888888,
              "#fdca26"
             ],
             [
              1,
              "#f0f921"
             ]
            ],
            "type": "histogram2d"
           }
          ],
          "histogram2dcontour": [
           {
            "colorbar": {
             "outlinewidth": 0,
             "ticks": ""
            },
            "colorscale": [
             [
              0,
              "#0d0887"
             ],
             [
              0.1111111111111111,
              "#46039f"
             ],
             [
              0.2222222222222222,
              "#7201a8"
             ],
             [
              0.3333333333333333,
              "#9c179e"
             ],
             [
              0.4444444444444444,
              "#bd3786"
             ],
             [
              0.5555555555555556,
              "#d8576b"
             ],
             [
              0.6666666666666666,
              "#ed7953"
             ],
             [
              0.7777777777777778,
              "#fb9f3a"
             ],
             [
              0.8888888888888888,
              "#fdca26"
             ],
             [
              1,
              "#f0f921"
             ]
            ],
            "type": "histogram2dcontour"
           }
          ],
          "mesh3d": [
           {
            "colorbar": {
             "outlinewidth": 0,
             "ticks": ""
            },
            "type": "mesh3d"
           }
          ],
          "parcoords": [
           {
            "line": {
             "colorbar": {
              "outlinewidth": 0,
              "ticks": ""
             }
            },
            "type": "parcoords"
           }
          ],
          "pie": [
           {
            "automargin": true,
            "type": "pie"
           }
          ],
          "scatter": [
           {
            "fillpattern": {
             "fillmode": "overlay",
             "size": 10,
             "solidity": 0.2
            },
            "type": "scatter"
           }
          ],
          "scatter3d": [
           {
            "line": {
             "colorbar": {
              "outlinewidth": 0,
              "ticks": ""
             }
            },
            "marker": {
             "colorbar": {
              "outlinewidth": 0,
              "ticks": ""
             }
            },
            "type": "scatter3d"
           }
          ],
          "scattercarpet": [
           {
            "marker": {
             "colorbar": {
              "outlinewidth": 0,
              "ticks": ""
             }
            },
            "type": "scattercarpet"
           }
          ],
          "scattergeo": [
           {
            "marker": {
             "colorbar": {
              "outlinewidth": 0,
              "ticks": ""
             }
            },
            "type": "scattergeo"
           }
          ],
          "scattergl": [
           {
            "marker": {
             "colorbar": {
              "outlinewidth": 0,
              "ticks": ""
             }
            },
            "type": "scattergl"
           }
          ],
          "scattermap": [
           {
            "marker": {
             "colorbar": {
              "outlinewidth": 0,
              "ticks": ""
             }
            },
            "type": "scattermap"
           }
          ],
          "scattermapbox": [
           {
            "marker": {
             "colorbar": {
              "outlinewidth": 0,
              "ticks": ""
             }
            },
            "type": "scattermapbox"
           }
          ],
          "scatterpolar": [
           {
            "marker": {
             "colorbar": {
              "outlinewidth": 0,
              "ticks": ""
             }
            },
            "type": "scatterpolar"
           }
          ],
          "scatterpolargl": [
           {
            "marker": {
             "colorbar": {
              "outlinewidth": 0,
              "ticks": ""
             }
            },
            "type": "scatterpolargl"
           }
          ],
          "scatterternary": [
           {
            "marker": {
             "colorbar": {
              "outlinewidth": 0,
              "ticks": ""
             }
            },
            "type": "scatterternary"
           }
          ],
          "surface": [
           {
            "colorbar": {
             "outlinewidth": 0,
             "ticks": ""
            },
            "colorscale": [
             [
              0,
              "#0d0887"
             ],
             [
              0.1111111111111111,
              "#46039f"
             ],
             [
              0.2222222222222222,
              "#7201a8"
             ],
             [
              0.3333333333333333,
              "#9c179e"
             ],
             [
              0.4444444444444444,
              "#bd3786"
             ],
             [
              0.5555555555555556,
              "#d8576b"
             ],
             [
              0.6666666666666666,
              "#ed7953"
             ],
             [
              0.7777777777777778,
              "#fb9f3a"
             ],
             [
              0.8888888888888888,
              "#fdca26"
             ],
             [
              1,
              "#f0f921"
             ]
            ],
            "type": "surface"
           }
          ],
          "table": [
           {
            "cells": {
             "fill": {
              "color": "#EBF0F8"
             },
             "line": {
              "color": "white"
             }
            },
            "header": {
             "fill": {
              "color": "#C8D4E3"
             },
             "line": {
              "color": "white"
             }
            },
            "type": "table"
           }
          ]
         },
         "layout": {
          "annotationdefaults": {
           "arrowcolor": "#2a3f5f",
           "arrowhead": 0,
           "arrowwidth": 1
          },
          "autotypenumbers": "strict",
          "coloraxis": {
           "colorbar": {
            "outlinewidth": 0,
            "ticks": ""
           }
          },
          "colorscale": {
           "diverging": [
            [
             0,
             "#8e0152"
            ],
            [
             0.1,
             "#c51b7d"
            ],
            [
             0.2,
             "#de77ae"
            ],
            [
             0.3,
             "#f1b6da"
            ],
            [
             0.4,
             "#fde0ef"
            ],
            [
             0.5,
             "#f7f7f7"
            ],
            [
             0.6,
             "#e6f5d0"
            ],
            [
             0.7,
             "#b8e186"
            ],
            [
             0.8,
             "#7fbc41"
            ],
            [
             0.9,
             "#4d9221"
            ],
            [
             1,
             "#276419"
            ]
           ],
           "sequential": [
            [
             0,
             "#0d0887"
            ],
            [
             0.1111111111111111,
             "#46039f"
            ],
            [
             0.2222222222222222,
             "#7201a8"
            ],
            [
             0.3333333333333333,
             "#9c179e"
            ],
            [
             0.4444444444444444,
             "#bd3786"
            ],
            [
             0.5555555555555556,
             "#d8576b"
            ],
            [
             0.6666666666666666,
             "#ed7953"
            ],
            [
             0.7777777777777778,
             "#fb9f3a"
            ],
            [
             0.8888888888888888,
             "#fdca26"
            ],
            [
             1,
             "#f0f921"
            ]
           ],
           "sequentialminus": [
            [
             0,
             "#0d0887"
            ],
            [
             0.1111111111111111,
             "#46039f"
            ],
            [
             0.2222222222222222,
             "#7201a8"
            ],
            [
             0.3333333333333333,
             "#9c179e"
            ],
            [
             0.4444444444444444,
             "#bd3786"
            ],
            [
             0.5555555555555556,
             "#d8576b"
            ],
            [
             0.6666666666666666,
             "#ed7953"
            ],
            [
             0.7777777777777778,
             "#fb9f3a"
            ],
            [
             0.8888888888888888,
             "#fdca26"
            ],
            [
             1,
             "#f0f921"
            ]
           ]
          },
          "colorway": [
           "#636efa",
           "#EF553B",
           "#00cc96",
           "#ab63fa",
           "#FFA15A",
           "#19d3f3",
           "#FF6692",
           "#B6E880",
           "#FF97FF",
           "#FECB52"
          ],
          "font": {
           "color": "#2a3f5f"
          },
          "geo": {
           "bgcolor": "white",
           "lakecolor": "white",
           "landcolor": "#E5ECF6",
           "showlakes": true,
           "showland": true,
           "subunitcolor": "white"
          },
          "hoverlabel": {
           "align": "left"
          },
          "hovermode": "closest",
          "mapbox": {
           "style": "light"
          },
          "paper_bgcolor": "white",
          "plot_bgcolor": "#E5ECF6",
          "polar": {
           "angularaxis": {
            "gridcolor": "white",
            "linecolor": "white",
            "ticks": ""
           },
           "bgcolor": "#E5ECF6",
           "radialaxis": {
            "gridcolor": "white",
            "linecolor": "white",
            "ticks": ""
           }
          },
          "scene": {
           "xaxis": {
            "backgroundcolor": "#E5ECF6",
            "gridcolor": "white",
            "gridwidth": 2,
            "linecolor": "white",
            "showbackground": true,
            "ticks": "",
            "zerolinecolor": "white"
           },
           "yaxis": {
            "backgroundcolor": "#E5ECF6",
            "gridcolor": "white",
            "gridwidth": 2,
            "linecolor": "white",
            "showbackground": true,
            "ticks": "",
            "zerolinecolor": "white"
           },
           "zaxis": {
            "backgroundcolor": "#E5ECF6",
            "gridcolor": "white",
            "gridwidth": 2,
            "linecolor": "white",
            "showbackground": true,
            "ticks": "",
            "zerolinecolor": "white"
           }
          },
          "shapedefaults": {
           "line": {
            "color": "#2a3f5f"
           }
          },
          "ternary": {
           "aaxis": {
            "gridcolor": "white",
            "linecolor": "white",
            "ticks": ""
           },
           "baxis": {
            "gridcolor": "white",
            "linecolor": "white",
            "ticks": ""
           },
           "bgcolor": "#E5ECF6",
           "caxis": {
            "gridcolor": "white",
            "linecolor": "white",
            "ticks": ""
           }
          },
          "title": {
           "x": 0.05
          },
          "xaxis": {
           "automargin": true,
           "gridcolor": "white",
           "linecolor": "white",
           "ticks": "",
           "title": {
            "standoff": 15
           },
           "zerolinecolor": "white",
           "zerolinewidth": 2
          },
          "yaxis": {
           "automargin": true,
           "gridcolor": "white",
           "linecolor": "white",
           "ticks": "",
           "title": {
            "standoff": 15
           },
           "zerolinecolor": "white",
           "zerolinewidth": 2
          }
         }
        },
        "title": {
         "text": "Daily trips vs daily average temperature (2022 — sample)"
        },
        "xaxis": {
         "anchor": "y",
         "domain": [
          0,
          0.94
         ],
         "rangeslider": {
          "visible": true
         },
         "type": "date"
        },
        "yaxis": {
         "anchor": "x",
         "domain": [
          0,
          1
         ],
         "title": {
          "text": "Trips"
         }
        },
        "yaxis2": {
         "anchor": "x",
         "overlaying": "y",
         "side": "right",
         "title": {
          "text": "Avg Temp (°C)"
         }
        }
       }
      },
      "image/png": "[encoded data removed]"
     },
     "metadata": {},
     "output_type": "display_data"
    }
   ],
   "source": [
    "from plotly.subplots import make_subplots\n",
    "import plotly.graph_objects as go\n",
    "import numpy as np\n",
    "\n",
    "# ensure avgTemp exists; if not, merge from weather file\n",
    "if \"avgTemp\" not in df.columns:\n",
    "    weather = pd.read_csv(OUT / \"laguardia_weather_2022.csv\")\n",
    "    weather[\"date\"] = pd.to_datetime(weather[\"date\"], errors=\"coerce\").dt.date\n",
    "    df = df.merge(weather, on=\"date\", how=\"left\")\n",
    "\n",
    "# daily aggregates\n",
    "daily_trips = df.groupby(\"date\").size().rename(\"trip_count\").reset_index()\n",
    "daily_temp  = df.groupby(\"date\")[\"avgTemp\"].mean().rename(\"avgTemp\").reset_index()\n",
    "d = daily_trips.merge(daily_temp, on=\"date\", how=\"left\").sort_values(\"date\")\n",
    "\n",
    "# optional smoothing\n",
    "d[\"trip_count_7d\"] = d[\"trip_count\"].rolling(7, min_periods=1).mean()\n",
    "d[\"avgTemp_7d\"]    = d[\"avgTemp\"].rolling(7, min_periods=1).mean()\n",
    "\n",
    "fig = make_subplots(specs=[[{\"secondary_y\": True}]])\n",
    "fig.add_trace(go.Scatter(x=d[\"date\"], y=d[\"trip_count_7d\"], mode=\"lines\", name=\"Trips (7d avg)\"), secondary_y=False)\n",
    "if d[\"avgTemp_7d\"].notna().any():\n",
    "    fig.add_trace(go.Scatter(x=d[\"date\"], y=d[\"avgTemp_7d\"], mode=\"lines\", name=\"Avg Temp (°C, 7d)\"), secondary_y=True)\n",
    "\n",
    "fig.update_yaxes(title_text=\"Trips\", secondary_y=False)\n",
    "fig.update_yaxes(title_text=\"Avg Temp (°C)\", secondary_y=True)\n",
    "fig.update_layout(\n",
    "    title=\"Daily trips vs daily average temperature (2022 — sample)\",\n",
    "    xaxis=dict(type=\"date\", rangeslider=dict(visible=True)),\n",
    "    hovermode=\"x unified\",\n",
    "    height=520,\n",
    "    margin=dict(t=60, b=40, l=60, r=60),\n",
    "    legend=dict(orientation=\"h\", yanchor=\"bottom\", y=1.02, x=0.0)\n",
    ")\n",
    "fig.show()\n"
   ]
  },
  {
   "cell_type": "code",
   "execution_count": null,
   "id": "e9840e54-3726-4bd5-8b7f-b03c87287ad8",
   "metadata": {},
   "outputs": [],
   "source": []
  }
 ],
 "metadata": {
  "kernelspec": {
   "display_name": "20c_nlp",
   "language": "python",
   "name": "20c_nlp"
  },
  "language_info": {
   "codemirror_mode": {
    "name": "ipython",
    "version": 3
   },
   "file_extension": ".py",
   "mimetype": "text/x-python",
   "name": "python",
   "nbconvert_exporter": "python",
   "pygments_lexer": "ipython3",
   "version": "3.11.13"
  }
 },
 "nbformat": 4,
 "nbformat_minor": 5
}
